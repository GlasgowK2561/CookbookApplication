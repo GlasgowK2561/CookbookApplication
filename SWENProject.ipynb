{
 "cells": [
  {
   "cell_type": "code",
   "execution_count": 1,
   "metadata": {},
   "outputs": [],
   "source": [
    "###IMPORTS###\n",
    "#to run a server, config allows us to change the general look, allows use of CSS\n",
    "from pywebio import start_server, config\n",
    "#allows input fields to remain on page after submission (Makes fields persistent)\n",
    "from pywebio.pin import *\n",
    "#allows use of input commands\n",
    "from pywebio.input import *\n",
    "#allows use of output commands\n",
    "from pywebio.output import *\n",
    "#Database management tool\n",
    "import pandas as pd\n",
    "from pandas import ExcelWriter\n",
    "#allows opening of excel files \n",
    "import openpyxl\n",
    "#& csv files\n",
    "import csv\n",
    "#brings in real time - allows us to control length of load screens for messages to display\n",
    "import time\n",
    "#restructures strings to keep consistent formatting\n",
    "import re\n",
    "\n",
    "###DEFINING GLOBAL DATA FRAMES###\n",
    "#Declaring global data frames\n",
    "global ingredientsdf, recipedf, stepsdf, dfDisplay, filepath,ingredDisplaydf\n",
    "pd.options.display.float_format = '{:,.0f}'.format\n",
    "#Our db file path\n",
    "filepath = \"C:\\\\Users\\\\kelli\\\\Downloads\\\\cookbook.xlsx\"\n",
    "#Declaring global styles\n",
    "global headerStyle, promptStyle, instructionStyle, recipeHeadingStyle, ingredientListStyle\n",
    "headerStyle = 'text-align: center; background-color: tan; padding-top: 40px; padding-bottom: 40px; color: brown; font-size: 50px; font-weight: bold'\n",
    "promptStyle = 'text-align: center; color:black; font-size: x-large; font-weight: bold'\n",
    "instructionStyle = 'margin-left: 100px; font-size = 35pt; font-weight: bold'\n",
    "recipeHeadingStyle = 'margin-left: 400px; color: black; font-size: 40pt; font-weight: bold'\n",
    "ingredientListStyle = 'margin-left: 100px; font-size 30pt'\n",
    "\n",
    "#instantiating global data frames\n",
    "ingredientsdf = pd.read_excel(filepath, sheet_name='Ingredients')\n",
    "recipedf = pd.read_excel(filepath, sheet_name='Recipe')\n",
    "stepsdf = pd.read_excel(filepath, sheet_name='Steps')\n",
    "recipedf.index = range(1, len(recipedf)+1)\n",
    "ingredientsdf.index = range(1, len(ingredientsdf)+1)\n",
    "stepsdf.index = range(1, len(stepsdf)+1)\n",
    "dfDisplay = recipedf.drop(columns=['RecipeID', 'numIngred','numInstruct'])\n",
    "dfDisplay.rename(columns={'RecipeName': 'Recipe', 'Description': 'Description', 'tags':'Tag', 'foodCat':'Category', 'cuisine': 'Cuisine', 'prepTime': 'Prep Time', 'cookTime': 'Cook Time'}, inplace=True)\n",
    "    \n",
    "#opening user database so user login can be verified\n",
    "with open(\"C:\\\\Users\\\\kelli\\\\Downloads\\\\userPassDB.csv\", 'r',encoding='utf-8-sig') as file:\n",
    "    csv_reader = csv.reader(file)\n",
    "    cred_list = []\n",
    "    for row in csv_reader:\n",
    "        cred_list.append(row)"
   ]
  },
  {
   "cell_type": "code",
   "execution_count": 2,
   "metadata": {},
   "outputs": [],
   "source": [
    "def print_header():\n",
    "    ###Function to print running header & nav bar###    \n",
    "    put_button([\"Main Menu\"], onclick=main_menu).style('text-align: left; margin-top: 20px')\n",
    "    put_markdown('# The Busy Chef').style(headerStyle)"
   ]
  },
  {
   "cell_type": "code",
   "execution_count": 3,
   "metadata": {},
   "outputs": [],
   "source": [
    "def main_menu():\n",
    "    ###Layout for main menu###\n",
    "    clear()\n",
    "    with use_scope(\"main_menu\", clear = True):\n",
    "        put_markdown(\"# Welcome to the Busy Chef\").style(headerStyle)\n",
    "        put_text(\"What would you like to do?\").style(promptStyle)\n",
    "        put_buttons([\"View Recipes\", 'Add Recipe'], onclick=menuButtons).style('text-align: center')\n"
   ]
  },
  {
   "cell_type": "code",
   "execution_count": 4,
   "metadata": {},
   "outputs": [],
   "source": [
    "def menuButtons(btn_val):\n",
    "    ###Tells main menu buttons what to do###\n",
    "    if btn_val == \"View Recipes\":\n",
    "        view_recipes()\n",
    "    elif btn_val == \"Add Recipe\":\n",
    "        add_recipe()"
   ]
  },
  {
   "cell_type": "code",
   "execution_count": 5,
   "metadata": {},
   "outputs": [],
   "source": [
    "def save_dfs():\n",
    "    ###SAVE DATAFRAMES TO DATABASE - PLAN TO USE UPON CLOSING###\n",
    "    global ingredientsdf, recipedf, stepsdf, dfDisplay, filepath,ingredDisplaydf\n",
    "    #with pd.ExcelWriter(filepath) as writer:  \n",
    "    #    recipedf.to_excel(filepath, sheet_name='Recipe')\n",
    "    #    ingredientsdf.to_excel(filepath,sheet_name='Ingredients')\n",
    "    #    stepsdf.to_excel(filepath,sheet_name='Steps')\n",
    "    #ingredientsdf = pd.read_excel(filepath, sheet_name='Ingredients')\n",
    "    #recipedf = pd.read_excel(filepath, sheet_name='Recipe')\n",
    "    #stepsdf = pd.read_excel(\"C:\\\\Users\\\\Kyle\\\\Downloads\\\\cookbook.xlsx\", sheet_name='Steps')\n",
    "    with ExcelWriter(filepath, mode=\"a\", engine=\"openpyxl\",if_sheet_exists= 'replace') as writer:\n",
    "        recipedf.to_excel(writer, sheet_name='Recipe',index=False)\n",
    "        ingredientsdf.to_excel(writer,sheet_name='Ingredients',index=False)\n",
    "        stepsdf.to_excel(writer,sheet_name='Steps',index=False)\n",
    "    ingredientsdf = pd.read_excel(filepath, sheet_name='Ingredients')\n",
    "    recipedf = pd.read_excel(filepath, sheet_name='Recipe')\n",
    "    stepsdf = pd.read_excel(filepath, sheet_name='Steps')\n",
    "    recipedf.index = range(1, len(recipedf)+1)\n",
    "    ingredientsdf.index = range(1, len(ingredientsdf)+1)\n",
    "    stepsdf.index = range(1, len(stepsdf)+1)\n",
    "    dfDisplay = recipedf.drop(columns=['RecipeID', 'numIngred','numInstruct'])\n",
    "    dfDisplay.rename(columns={'RecipeName': 'Recipe', 'Description': 'Description', 'tags':'Tag', 'foodCat':'Category', 'cuisine': 'Cuisine', 'prepTime': 'Prep Time', 'cookTime': 'Cook Time'}, inplace=True)\n",
    "    "
   ]
  },
  {
   "cell_type": "code",
   "execution_count": 6,
   "metadata": {},
   "outputs": [],
   "source": [
    "def view_recipes():\n",
    "    ###Layout for view all recipes###\n",
    "    clear()\n",
    "    print_header()\n",
    "    \n",
    "    global dfDisplay \n",
    "    dfDisplay = recipedf.drop(columns=['RecipeID', 'numIngred','numInstruct'])\n",
    "    dfDisplay.rename(columns={'RecipeName': 'Recipe', 'Description': 'Description', 'tags':'Tag', 'foodCat':'Category', 'cuisine': 'Cuisine', 'prepTime': 'Prep Time', 'cookTime': 'Cook Time'}, inplace=True)\n",
    "    \n",
    "    put_markdown(\"## Recipes\").style('text-align:center')\n",
    "    put_html(dfDisplay.to_html(border=0))\n",
    "    optionsList = []\n",
    "    for i in range(1, len(dfDisplay) + 1):\n",
    "        optionsList.append(i)\n",
    "    response = select('Which recipe would you like to view?', options = optionsList)\n",
    "    display_recipe(response)"
   ]
  },
  {
   "cell_type": "code",
   "execution_count": 7,
   "metadata": {},
   "outputs": [],
   "source": [
    "def generate_instructions(response):\n",
    "    stepsDisplaydf = stepsdf.loc[stepsdf['StepListID'] == response]\n",
    "    stepsDisplaydf = stepsDisplaydf.drop(columns=['StepListID'])\n",
    "    steps_str = stepsDisplaydf.to_string(header=False,\n",
    "                            index=False,\n",
    "                            index_names=False).split('\\n')\n",
    "    for i in range(len(steps_str)):\n",
    "        steps_str[i] = ' '.join(steps_str[i].split())\n",
    "    steps_str = '\\n'.join(steps_str)\n",
    "    return steps_str"
   ]
  },
  {
   "cell_type": "code",
   "execution_count": 8,
   "metadata": {},
   "outputs": [],
   "source": [
    "def display_recipe(response):\n",
    "    clear()\n",
    "    print_header()\n",
    "    \n",
    "    ingredDisplaydf = ingredientsdf.loc[ingredientsdf['IngredListID'] == response]\n",
    "    ingredDisplaydf = ingredDisplaydf.drop(columns=['IngredListID'])\n",
    "    ingredDisplaydf.index = range(1, len(ingredDisplaydf)+1)\n",
    "    \n",
    "    text_recipe = \"# {}\".format(recipedf.iloc[response - 1]['RecipeName'])\n",
    "    put_markdown(text_recipe).style('recipeHeadingStyle')\n",
    "    #put_html(ingredDisplaydf.to_html(border=0))\n",
    "    instructionsTxt = generate_instructions(response)\n",
    "    put_markdown(\"### Ingredients\").style(ingredientListStyle)\n",
    "    put_column([put_html(ingredDisplaydf.to_html(border=0)).style(ingredientListStyle), None, put_text(instructionsTxt).style(instructionStyle)])\n",
    "    #put_text(instructionsTxt)"
   ]
  },
  {
   "cell_type": "code",
   "execution_count": 9,
   "metadata": {},
   "outputs": [],
   "source": [
    "def get_ingredients(num):\n",
    "    clear()\n",
    "    print_header()\n",
    "    \n",
    "    inputStr = \"Enter Ingredient Information for Ingredient {}\".format(num + 1)\n",
    "    ingred_info = input_group(inputStr, [\n",
    "        input('Ingredient Name', name = 'Ingredient', type = TEXT),\n",
    "        input('Ingredient Amount', name = 'Amount', type = TEXT),\n",
    "        input('Ingredient Measurement(example: cup, teaspoon)', name ='Measurement', type = TEXT)\n",
    "    ])\n",
    "    ingredHelp = {'IngredListID':len(recipedf)}\n",
    "    ingred_info.update(ingredHelp)\n",
    "    return ingred_info"
   ]
  },
  {
   "cell_type": "code",
   "execution_count": 10,
   "metadata": {},
   "outputs": [],
   "source": [
    "def get_steps(num):\n",
    "    clear()\n",
    "    print_header()\n",
    "    \n",
    "    inputStr = \"Enter Step {}\".format(num + 1)\n",
    "    info = input_group(inputStr, [\n",
    "        input('Instruction', name = 'Instruction', type = TEXT)\n",
    "    ])\n",
    "    step = num + 1\n",
    "    step = str(step) + '.'\n",
    "    stepsHelp = {'StepListID':len(recipedf),'StepNum': step}\n",
    "    info.update(stepsHelp)\n",
    "    return info"
   ]
  },
  {
   "cell_type": "code",
   "execution_count": 11,
   "metadata": {},
   "outputs": [],
   "source": [
    "def add_recipe():\n",
    "    clear()\n",
    "    print_header()\n",
    "    \n",
    "    #get information from user\n",
    "    info = input_group(\"Please Enter your Recipe Information\",[\n",
    "        input('Enter Recipe Name', name = 'RecipeName', type = TEXT),\n",
    "        input('Enter Recipe Description', name = 'Description', type = TEXT),\n",
    "        radio('Select your Tags', options = ['Vegetarian', 'Heart Healthy', 'Protien Heavy', 'Party'], name = 'tags'),      \n",
    "        input('Food Category (Example: Indian, American, Italian)', name = 'foodCat', type = TEXT),\n",
    "        select('Cuisine', options = ['Breakfast', 'Brunch', 'Lunch', 'Dinner', 'Appetizer', 'Dessert'], name  = 'cuisine'),\n",
    "        input('Enter the Prep Time for the Meal', name = 'prepTime', type = NUMBER),\n",
    "        input('Enter the Cook Time for the Meal', name = 'cookTime', type = NUMBER),\n",
    "        input('Enter the number of ingredients in recipe:', name = 'numIngred', type = NUMBER),\n",
    "        input('Enter the number of steps in recipe:', name = 'numInstruct', type = NUMBER)\n",
    "    ])\n",
    "    #Getting dictionary of db attribute names for consistency & avoid db errors\n",
    "    recipeHelp = {'RecipeID': len(recipedf) + 1}\n",
    "    #Update dataframe with recipe input\n",
    "    info.update(recipeHelp)\n",
    "    recipedf.loc[len(recipedf) + 1] = info\n",
    "    #recipedf.update(info)\n",
    "    #Get each ingredient info\n",
    "    for i in range(info['numIngred']):\n",
    "        ingred = get_ingredients(i)\n",
    "        ingredientsdf.loc[len(ingredientsdf)] = ingred\n",
    "    #Get each step info\n",
    "    for i in range(info['numInstruct']):\n",
    "        steps = get_steps(i)\n",
    "        stepsdf.loc[len(stepsdf)] = steps\n",
    "    global dfDisplay \n",
    "    dfDisplay = recipedf.drop(columns=['RecipeID', 'numIngred','numInstruct'])\n",
    "    dfDisplay.rename(columns={'RecipeName': 'Recipe', 'Description': 'Description', 'tags':'Tag', 'foodCat':'Category', 'cuisine': 'Cuisine', 'prepTime': 'Prep Time', 'cookTime': 'Cook Time'}, inplace=True)\n",
    "    \n",
    "    save_dfs()\n",
    "    view_recipes()\n"
   ]
  },
  {
   "cell_type": "code",
   "execution_count": 12,
   "metadata": {},
   "outputs": [],
   "source": [
    "def login():\n",
    "    credentials = input_group(\"loginInfo\", [\n",
    "        input(\"Username\", name=\"username\"),\n",
    "        input(\"Password\", name=\"password\",\n",
    "            type=PASSWORD,\n",
    "            placeholder=\"Enter your password\",\n",
    "            help_text=\"Please contact IT Support for access.\",\n",
    "            required = True\n",
    "            ),\n",
    "        ])\n",
    "    with put_loading(shape='border', color='dark').style('text-align:center'):\n",
    "        for row in cred_list:\n",
    "            if (row[0] == credentials['username']) & (row[1] == credentials['password']):\n",
    "\n",
    "                add_recipe()\n",
    "            else:\n",
    "                put_text('Incorrect Username or Password. Please try again')\n",
    "                time.sleep(5)\n",
    "                clear()\n",
    "                login()     "
   ]
  },
  {
   "cell_type": "code",
   "execution_count": 13,
   "metadata": {},
   "outputs": [
    {
     "name": "stdout",
     "output_type": "stream",
     "text": [
      "Running on all addresses.\n",
      "Use http://192.168.1.216:8080/ to access the application\n"
     ]
    },
    {
     "ename": "RuntimeError",
     "evalue": "This event loop is already running",
     "output_type": "error",
     "traceback": [
      "\u001b[1;31m---------------------------------------------------------------------------\u001b[0m",
      "\u001b[1;31mRuntimeError\u001b[0m                              Traceback (most recent call last)",
      "\u001b[1;32mc:\\Users\\kelli\\Downloads\\SWENProject (1) (1).ipynb Cell 13\u001b[0m line \u001b[0;36m2\n\u001b[0;32m      <a href='vscode-notebook-cell:/c%3A/Users/kelli/Downloads/SWENProject%20%281%29%20%281%29.ipynb#X15sZmlsZQ%3D%3D?line=0'>1</a>\u001b[0m \u001b[39m###PYWEBIO FUNCTION THAT OPENS UNUSED PORT ON NETWORK###\u001b[39;00m\n\u001b[1;32m----> <a href='vscode-notebook-cell:/c%3A/Users/kelli/Downloads/SWENProject%20%281%29%20%281%29.ipynb#X15sZmlsZQ%3D%3D?line=1'>2</a>\u001b[0m start_server(main_menu, port \u001b[39m=\u001b[39;49m \u001b[39m8080\u001b[39;49m, debug \u001b[39m=\u001b[39;49m \u001b[39mTrue\u001b[39;49;00m )\n",
      "File \u001b[1;32mc:\\Users\\kelli\\AppData\\Local\\Programs\\Python\\Python310\\lib\\site-packages\\pywebio\\platform\\tornado.py:302\u001b[0m, in \u001b[0;36mstart_server\u001b[1;34m(applications, port, host, debug, cdn, static_dir, remote_access, reconnect_timeout, allowed_origins, check_origin, auto_open_webbrowser, max_payload_size, **tornado_app_settings)\u001b[0m\n\u001b[0;32m    299\u001b[0m \u001b[39mif\u001b[39;00m remote_access:\n\u001b[0;32m    300\u001b[0m     start_remote_access_service(local_port\u001b[39m=\u001b[39mport)\n\u001b[1;32m--> 302\u001b[0m tornado\u001b[39m.\u001b[39;49mioloop\u001b[39m.\u001b[39;49mIOLoop\u001b[39m.\u001b[39;49mcurrent()\u001b[39m.\u001b[39;49mstart()\n",
      "File \u001b[1;32mc:\\Users\\kelli\\AppData\\Local\\Programs\\Python\\Python310\\lib\\site-packages\\tornado\\platform\\asyncio.py:195\u001b[0m, in \u001b[0;36mBaseAsyncIOLoop.start\u001b[1;34m(self)\u001b[0m\n\u001b[0;32m    194\u001b[0m \u001b[39mdef\u001b[39;00m \u001b[39mstart\u001b[39m(\u001b[39mself\u001b[39m) \u001b[39m-\u001b[39m\u001b[39m>\u001b[39m \u001b[39mNone\u001b[39;00m:\n\u001b[1;32m--> 195\u001b[0m     \u001b[39mself\u001b[39;49m\u001b[39m.\u001b[39;49masyncio_loop\u001b[39m.\u001b[39;49mrun_forever()\n",
      "File \u001b[1;32mc:\\Users\\kelli\\AppData\\Local\\Programs\\Python\\Python310\\lib\\asyncio\\base_events.py:590\u001b[0m, in \u001b[0;36mBaseEventLoop.run_forever\u001b[1;34m(self)\u001b[0m\n\u001b[0;32m    588\u001b[0m \u001b[39m\u001b[39m\u001b[39m\"\"\"Run until stop() is called.\"\"\"\u001b[39;00m\n\u001b[0;32m    589\u001b[0m \u001b[39mself\u001b[39m\u001b[39m.\u001b[39m_check_closed()\n\u001b[1;32m--> 590\u001b[0m \u001b[39mself\u001b[39;49m\u001b[39m.\u001b[39;49m_check_running()\n\u001b[0;32m    591\u001b[0m \u001b[39mself\u001b[39m\u001b[39m.\u001b[39m_set_coroutine_origin_tracking(\u001b[39mself\u001b[39m\u001b[39m.\u001b[39m_debug)\n\u001b[0;32m    592\u001b[0m \u001b[39mself\u001b[39m\u001b[39m.\u001b[39m_thread_id \u001b[39m=\u001b[39m threading\u001b[39m.\u001b[39mget_ident()\n",
      "File \u001b[1;32mc:\\Users\\kelli\\AppData\\Local\\Programs\\Python\\Python310\\lib\\asyncio\\base_events.py:582\u001b[0m, in \u001b[0;36mBaseEventLoop._check_running\u001b[1;34m(self)\u001b[0m\n\u001b[0;32m    580\u001b[0m \u001b[39mdef\u001b[39;00m \u001b[39m_check_running\u001b[39m(\u001b[39mself\u001b[39m):\n\u001b[0;32m    581\u001b[0m     \u001b[39mif\u001b[39;00m \u001b[39mself\u001b[39m\u001b[39m.\u001b[39mis_running():\n\u001b[1;32m--> 582\u001b[0m         \u001b[39mraise\u001b[39;00m \u001b[39mRuntimeError\u001b[39;00m(\u001b[39m'\u001b[39m\u001b[39mThis event loop is already running\u001b[39m\u001b[39m'\u001b[39m)\n\u001b[0;32m    583\u001b[0m     \u001b[39mif\u001b[39;00m events\u001b[39m.\u001b[39m_get_running_loop() \u001b[39mis\u001b[39;00m \u001b[39mnot\u001b[39;00m \u001b[39mNone\u001b[39;00m:\n\u001b[0;32m    584\u001b[0m         \u001b[39mraise\u001b[39;00m \u001b[39mRuntimeError\u001b[39;00m(\n\u001b[0;32m    585\u001b[0m             \u001b[39m'\u001b[39m\u001b[39mCannot run the event loop while another loop is running\u001b[39m\u001b[39m'\u001b[39m)\n",
      "\u001b[1;31mRuntimeError\u001b[0m: This event loop is already running"
     ]
    },
    {
     "name": "stderr",
     "output_type": "stream",
     "text": [
      "Unhandled error in pywebio app\n",
      "Traceback (most recent call last):\n",
      "  File \"c:\\Users\\kelli\\AppData\\Local\\Programs\\Python\\Python310\\lib\\site-packages\\pywebio\\session\\threadbased.py\", line 261, in run\n",
      "    callback(event['data'])\n",
      "  File \"c:\\Users\\kelli\\AppData\\Local\\Programs\\Python\\Python310\\lib\\site-packages\\pywebio\\output.py\", line 843, in click_callback\n",
      "    return onclick(btn_val)\n",
      "  File \"C:\\Users\\kelli\\AppData\\Local\\Temp\\ipykernel_19580\\666173700.py\", line 6, in menuButtons\n",
      "  File \"C:\\Users\\kelli\\AppData\\Local\\Temp\\ipykernel_19580\\2339122620.py\", line 24, in add_recipe\n",
      "TypeError: 'NoneType' object cannot be interpreted as an integer\n",
      "C:\\Users\\kelli\\AppData\\Local\\Temp\\ipykernel_19580\\2339122620.py:26: FutureWarning: Setting an item of incompatible dtype is deprecated and will raise in a future error of pandas. Value '1' has dtype incompatible with float64, please explicitly cast to a compatible dtype first.\n",
      "C:\\Users\\kelli\\AppData\\Local\\Temp\\ipykernel_19580\\2339122620.py:30: FutureWarning: Setting an item of incompatible dtype is deprecated and will raise in a future error of pandas. Value '1.' has dtype incompatible with float64, please explicitly cast to a compatible dtype first.\n",
      "C:\\Users\\kelli\\AppData\\Local\\Temp\\ipykernel_19580\\2339122620.py:21: FutureWarning: The behavior of DataFrame concatenation with empty or all-NA entries is deprecated. In a future version, this will no longer exclude empty or all-NA columns when determining the result dtypes. To retain the old behavior, exclude the relevant entries before the concat operation.\n",
      "C:\\Users\\kelli\\AppData\\Local\\Temp\\ipykernel_19580\\2339122620.py:26: FutureWarning: Setting an item of incompatible dtype is deprecated and will raise in a future error of pandas. Value '1' has dtype incompatible with float64, please explicitly cast to a compatible dtype first.\n",
      "C:\\Users\\kelli\\AppData\\Local\\Temp\\ipykernel_19580\\2339122620.py:30: FutureWarning: Setting an item of incompatible dtype is deprecated and will raise in a future error of pandas. Value '1.' has dtype incompatible with float64, please explicitly cast to a compatible dtype first.\n"
     ]
    }
   ],
   "source": [
    "###PYWEBIO FUNCTION THAT OPENS UNUSED PORT ON NETWORK###\n",
    "start_server(main_menu, port = 8080, debug = True )"
   ]
  },
  {
   "cell_type": "code",
   "execution_count": null,
   "metadata": {},
   "outputs": [
    {
     "data": {
      "text/html": [
       "<div>\n",
       "<style scoped>\n",
       "    .dataframe tbody tr th:only-of-type {\n",
       "        vertical-align: middle;\n",
       "    }\n",
       "\n",
       "    .dataframe tbody tr th {\n",
       "        vertical-align: top;\n",
       "    }\n",
       "\n",
       "    .dataframe thead th {\n",
       "        text-align: right;\n",
       "    }\n",
       "</style>\n",
       "<table border=\"1\" class=\"dataframe\">\n",
       "  <thead>\n",
       "    <tr style=\"text-align: right;\">\n",
       "      <th></th>\n",
       "      <th>Unnamed: 0</th>\n",
       "      <th>RecipeID</th>\n",
       "      <th>RecipeName</th>\n",
       "      <th>Description</th>\n",
       "      <th>tags</th>\n",
       "      <th>foodCat</th>\n",
       "      <th>cuisine</th>\n",
       "      <th>prepTime</th>\n",
       "      <th>cookTime</th>\n",
       "      <th>numIngred</th>\n",
       "      <th>numInstruct</th>\n",
       "    </tr>\n",
       "  </thead>\n",
       "  <tbody>\n",
       "    <tr>\n",
       "      <th>0</th>\n",
       "      <td>1</td>\n",
       "      <td>1</td>\n",
       "      <td>Pizza</td>\n",
       "      <td>New York Style</td>\n",
       "      <td>Party</td>\n",
       "      <td>American</td>\n",
       "      <td>Dinner</td>\n",
       "      <td>15.0</td>\n",
       "      <td>60.0</td>\n",
       "      <td>5</td>\n",
       "      <td>3</td>\n",
       "    </tr>\n",
       "    <tr>\n",
       "      <th>1</th>\n",
       "      <td>2</td>\n",
       "      <td>2</td>\n",
       "      <td>kellie</td>\n",
       "      <td>add</td>\n",
       "      <td>NaN</td>\n",
       "      <td>NaN</td>\n",
       "      <td>Breakfast</td>\n",
       "      <td>NaN</td>\n",
       "      <td>NaN</td>\n",
       "      <td>1</td>\n",
       "      <td>1</td>\n",
       "    </tr>\n",
       "  </tbody>\n",
       "</table>\n",
       "</div>"
      ],
      "text/plain": [
       "   Unnamed: 0  RecipeID RecipeName     Description   tags   foodCat  \\\n",
       "0           1         1      Pizza  New York Style  Party  American   \n",
       "1           2         2     kellie             add    NaN       NaN   \n",
       "\n",
       "     cuisine  prepTime  cookTime  numIngred  numInstruct  \n",
       "0     Dinner      15.0      60.0          5            3  \n",
       "1  Breakfast       NaN       NaN          1            1  "
      ]
     },
     "metadata": {},
     "output_type": "display_data"
    }
   ],
   "source": [
    "recipedf = pd.read_excel(filepath, sheet_name='Recipe')\n",
    "display(recipedf)"
   ]
  }
 ],
 "metadata": {
  "kernelspec": {
   "display_name": "Python 3.10.7 64-bit",
   "language": "python",
   "name": "python3"
  },
  "language_info": {
   "codemirror_mode": {
    "name": "ipython",
    "version": 3
   },
   "file_extension": ".py",
   "mimetype": "text/x-python",
   "name": "python",
   "nbconvert_exporter": "python",
   "pygments_lexer": "ipython3",
   "version": "3.11.5"
  },
  "orig_nbformat": 4,
  "vscode": {
   "interpreter": {
    "hash": "538fd4bd7448cf884b234413f537b00cacb663e8d69e6b473c48703f317fad08"
   }
  }
 },
 "nbformat": 4,
 "nbformat_minor": 2
}
