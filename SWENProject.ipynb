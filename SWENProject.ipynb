{
 "cells": [
  {
   "cell_type": "code",
   "execution_count": 1,
   "metadata": {},
   "outputs": [],
   "source": [
    "from pywebio import start_server, config\n",
    "from pywebio.pin import *\n",
    "from pywebio.input import *\n",
    "from pywebio.output import *\n",
    "import pandas as pd\n",
    "import openpyxl\n",
    "import csv\n",
    "import time\n",
    "import re\n",
    "global ingredientsdf, recipedf, stepsdf, ingFilepath, recipeFilepath, stepsFilepath, dfDisplay, filepath,ingredDisplaydf\n",
    "filepath = \"C:\\\\Users\\\\kelli\\\\Downloads\\\\cookbook.xlsx\"\n",
    "pd.options.display.float_format = '{:,.0f}'.format"
   ]
  },
  {
   "cell_type": "code",
   "execution_count": 2,
   "metadata": {},
   "outputs": [],
   "source": [
    "def save_dfs():\n",
    "    recipedf.to_excel(filepath,sheet_name='Recipe')\n",
    "    ingredientsdf.to_excel(filepath,sheet_name='Ingredients')\n",
    "    stepsdf.to_excel(filepath,sheet_name='Steps')\n",
    "    ingredientsdf = pd.read_excel(ingFilepath, sheet_name='Ingredients')\n",
    "    recipedf = pd.read_excel(recipeFilepath, sheet_name='Recipe')\n",
    "    stepsdf = pd.read_excel(\"C:\\\\Users\\\\kelli\\\\Downloads\\\\cookbook.xlsx\", sheet_name='Steps')\n",
    "    "
   ]
  },
  {
   "cell_type": "code",
   "execution_count": 3,
   "metadata": {},
   "outputs": [],
   "source": [
    "def view_recipes():\n",
    "    put_markdown(\"## Recipes\").style('text-align:center')\n",
    "    put_html(dfDisplay.to_html(border=0))\n",
    "    optionsList = []\n",
    "    for i in range(1, len(dfDisplay) + 1):\n",
    "        optionsList.append(i)\n",
    "    response = select('Which recipe would you like to view?', options = optionsList)\n",
    "    display_recipe(response)"
   ]
  },
  {
   "cell_type": "code",
   "execution_count": 4,
   "metadata": {},
   "outputs": [],
   "source": [
    "def generate_instructions(response):\n",
    "    stepsDisplaydf = stepsdf.loc[stepsdf['StepListID'] == response]\n",
    "    stepsDisplaydf = stepsDisplaydf.drop(columns=['StepListID'])\n",
    "    steps_str = stepsDisplaydf.to_string(header=False,\n",
    "                            index=False,\n",
    "                            index_names=False).split('\\n')\n",
    "    for i in range(len(steps_str)):\n",
    "        steps_str[i] = ' '.join(steps_str[i].split())\n",
    "    steps_str = '\\n'.join(steps_str)\n",
    "    return steps_str\n",
    "    "
   ]
  },
  {
   "cell_type": "code",
   "execution_count": 5,
   "metadata": {},
   "outputs": [],
   "source": [
    "def display_recipe(response):\n",
    "    ingredDisplaydf = ingredientsdf.loc[ingredientsdf['IngredListID'] == response]\n",
    "    ingredDisplaydf = ingredDisplaydf.drop(columns=['IngredListID'])\n",
    "    ingredDisplaydf.index = range(1, len(ingredDisplaydf)+1)\n",
    "    clear()\n",
    "    text_recipe = \"# {}\".format(recipedf.iloc[response - 1]['RecipeName'])\n",
    "    put_markdown(text_recipe).style('text-align:center')\n",
    "    #put_html(ingredDisplaydf.to_html(border=0))\n",
    "    instructionsTxt = generate_instructions(response)\n",
    "    put_markdown(\"### Ingredients\")\n",
    "    put_column([put_html(ingredDisplaydf.to_html(border=0)), None, put_text(instructionsTxt)])\n",
    "    #put_text(instructionsTxt)"
   ]
  },
  {
   "cell_type": "code",
   "execution_count": 6,
   "metadata": {},
   "outputs": [],
   "source": [
    "def get_ingredients(num):\n",
    "    inputStr = \"Enter Ingredient Information for Ingredient {}\".format(num + 1)\n",
    "    ingred_info = input_group(inputStr, [\n",
    "        input('Ingredient Name', name = 'Ingredient', type = TEXT),\n",
    "        input('Ingredient Amount', name = 'Amount', type = TEXT),\n",
    "        input('Ingredient Measurement(example: cup, teaspoon', name ='Measurement', type = TEXT)\n",
    "    ])\n",
    "    ingredHelp = {'IngredListID':len(recipedf)}\n",
    "    ingred_info.update(ingredHelp)\n",
    "    return ingred_info"
   ]
  },
  {
   "cell_type": "code",
   "execution_count": 7,
   "metadata": {},
   "outputs": [],
   "source": [
    "def get_steps(num):\n",
    "    inputStr = \"Enter Step {}\".format(num + 1)\n",
    "    info = input_group(inputStr, [\n",
    "        input('Instruction', name = 'Instruction', type = TEXT)\n",
    "    ])\n",
    "    step = num + 1\n",
    "    step = str(step) + '.'\n",
    "    stepsHelp = {'StepListID':len(recipedf),'StepNum': step}\n",
    "    info.update(stepsHelp)\n",
    "    return info"
   ]
  },
  {
   "cell_type": "code",
   "execution_count": 8,
   "metadata": {},
   "outputs": [],
   "source": [
    "def add_recipe():\n",
    "    clear()\n",
    "    put_markdown('# Cookbook ').style('text-align:center')\n",
    "    #get information from user\n",
    "    info = input_group(\"Please Enter your Recipe Information\",[\n",
    "        input('Enter Recipe Name', name = 'RecipeName', type = TEXT),\n",
    "        input('Enter Recipe Description', name = 'Description', type = TEXT),\n",
    "        radio('Select your Tags', options = ['Vegetarian', 'Heart Healthy', 'Protien Heavy', 'Party'], name = 'tags'),      \n",
    "        input('Food Category (Example: Indian, American, Italian)', name = 'foodCat', type = TEXT),\n",
    "        select('Cuisine', options = ['Breakfast', 'Brunch', 'Lunch', 'Dinner', 'Appetizer'], name  = 'cuisine'),\n",
    "        input('Enter the Prep Time for the Meal', name = 'prepTime', type = NUMBER),\n",
    "        input('Enter the Cook Time for the Meal', name = 'cookTime', type = NUMBER),\n",
    "        input('Enter the number of ingredients in recipe:', name = 'numIngred', type = NUMBER),\n",
    "        input('Enter the number of steps in recipe:', name = 'numInstruct', type = NUMBER)\n",
    "    ])\n",
    "    recipeHelp = {'RecipeID': len(recipedf) + 1}\n",
    "    info.update(recipeHelp)\n",
    "    recipedf.loc[len(recipedf)] = info\n",
    "    for i in range(info['numIngred']):\n",
    "        ingred = get_ingredients(i)\n",
    "        ingredientsdf.loc[len(ingredientsdf)] = ingred\n",
    "    for i in range(info['numInstruct']):\n",
    "        steps = get_steps(i)\n",
    "        stepsdf.loc[len(stepsdf)] = steps\n",
    "    recipedf.index = recipedf.index + 1\n",
    "    ingredientsdf.index = ingredientsdf.index + 1\n",
    "    stepsdf.index = stepsdf.index + 1\n",
    "    global dfDisplay \n",
    "    dfDisplay = recipedf.drop(columns=['RecipeID', 'numIngred','numInstruct'])\n",
    "    dfDisplay.rename(columns={'RecipeName': 'Recipe', 'Description': 'Description', 'tags':'Tag', 'foodCat':'Category', 'cuisine': 'Cuisine', 'prepTime': 'Prep Time', 'cookTime': 'Cook Time'}, inplace=True)\n",
    "    view_recipes()\n"
   ]
  },
  {
   "cell_type": "code",
   "execution_count": 9,
   "metadata": {},
   "outputs": [],
   "source": [
    "def login():\n",
    "    credentials = input_group(\"loginInfo\", [\n",
    "        input(\"Username\", name=\"username\"),\n",
    "        input(\"Password\", name=\"password\",\n",
    "            type=PASSWORD,\n",
    "            placeholder=\"Enter your password\",\n",
    "            help_text=\"Please contact IT Support for access.\",\n",
    "            required = True\n",
    "            ),\n",
    "        ])\n",
    "    with put_loading(shape='border', color='dark').style('text-align:center'):\n",
    "        for row in cred_list:\n",
    "            if (row[0] == credentials['username']) & (row[1] == credentials['password']):\n",
    "\n",
    "                add_recipe()\n",
    "            else:\n",
    "                put_text('Incorrect Username or Password. Please try again')\n",
    "                time.sleep(5)\n",
    "                clear()\n",
    "                login()     "
   ]
  },
  {
   "cell_type": "code",
   "execution_count": 10,
   "metadata": {},
   "outputs": [
    {
     "name": "stdout",
     "output_type": "stream",
     "text": [
      "Running on all addresses.\n",
      "Use http://192.168.1.216:8080/ to access the application\n"
     ]
    },
    {
     "ename": "RuntimeError",
     "evalue": "This event loop is already running",
     "output_type": "error",
     "traceback": [
      "\u001b[1;31m---------------------------------------------------------------------------\u001b[0m",
      "\u001b[1;31mRuntimeError\u001b[0m                              Traceback (most recent call last)",
      "\u001b[1;32mc:\\Users\\kelli\\Downloads\\SWENProject.ipynb Cell 10\u001b[0m line \u001b[0;36m1\n\u001b[0;32m      <a href='vscode-notebook-cell:/c%3A/Users/kelli/Downloads/SWENProject.ipynb#X11sZmlsZQ%3D%3D?line=7'>8</a>\u001b[0m     \u001b[39mfor\u001b[39;00m row \u001b[39min\u001b[39;00m csv_reader:\n\u001b[0;32m      <a href='vscode-notebook-cell:/c%3A/Users/kelli/Downloads/SWENProject.ipynb#X11sZmlsZQ%3D%3D?line=8'>9</a>\u001b[0m         cred_list\u001b[39m.\u001b[39mappend(row)\n\u001b[1;32m---> <a href='vscode-notebook-cell:/c%3A/Users/kelli/Downloads/SWENProject.ipynb#X11sZmlsZQ%3D%3D?line=9'>10</a>\u001b[0m start_server(add_recipe, port \u001b[39m=\u001b[39;49m \u001b[39m8080\u001b[39;49m, debug \u001b[39m=\u001b[39;49m \u001b[39mTrue\u001b[39;49;00m )\n",
      "File \u001b[1;32mc:\\Users\\kelli\\AppData\\Local\\Programs\\Python\\Python310\\lib\\site-packages\\pywebio\\platform\\tornado.py:302\u001b[0m, in \u001b[0;36mstart_server\u001b[1;34m(applications, port, host, debug, cdn, static_dir, remote_access, reconnect_timeout, allowed_origins, check_origin, auto_open_webbrowser, max_payload_size, **tornado_app_settings)\u001b[0m\n\u001b[0;32m    299\u001b[0m \u001b[39mif\u001b[39;00m remote_access:\n\u001b[0;32m    300\u001b[0m     start_remote_access_service(local_port\u001b[39m=\u001b[39mport)\n\u001b[1;32m--> 302\u001b[0m tornado\u001b[39m.\u001b[39;49mioloop\u001b[39m.\u001b[39;49mIOLoop\u001b[39m.\u001b[39;49mcurrent()\u001b[39m.\u001b[39;49mstart()\n",
      "File \u001b[1;32mc:\\Users\\kelli\\AppData\\Local\\Programs\\Python\\Python310\\lib\\site-packages\\tornado\\platform\\asyncio.py:195\u001b[0m, in \u001b[0;36mBaseAsyncIOLoop.start\u001b[1;34m(self)\u001b[0m\n\u001b[0;32m    194\u001b[0m \u001b[39mdef\u001b[39;00m \u001b[39mstart\u001b[39m(\u001b[39mself\u001b[39m) \u001b[39m-\u001b[39m\u001b[39m>\u001b[39m \u001b[39mNone\u001b[39;00m:\n\u001b[1;32m--> 195\u001b[0m     \u001b[39mself\u001b[39;49m\u001b[39m.\u001b[39;49masyncio_loop\u001b[39m.\u001b[39;49mrun_forever()\n",
      "File \u001b[1;32mc:\\Users\\kelli\\AppData\\Local\\Programs\\Python\\Python310\\lib\\asyncio\\base_events.py:590\u001b[0m, in \u001b[0;36mBaseEventLoop.run_forever\u001b[1;34m(self)\u001b[0m\n\u001b[0;32m    588\u001b[0m \u001b[39m\u001b[39m\u001b[39m\"\"\"Run until stop() is called.\"\"\"\u001b[39;00m\n\u001b[0;32m    589\u001b[0m \u001b[39mself\u001b[39m\u001b[39m.\u001b[39m_check_closed()\n\u001b[1;32m--> 590\u001b[0m \u001b[39mself\u001b[39;49m\u001b[39m.\u001b[39;49m_check_running()\n\u001b[0;32m    591\u001b[0m \u001b[39mself\u001b[39m\u001b[39m.\u001b[39m_set_coroutine_origin_tracking(\u001b[39mself\u001b[39m\u001b[39m.\u001b[39m_debug)\n\u001b[0;32m    592\u001b[0m \u001b[39mself\u001b[39m\u001b[39m.\u001b[39m_thread_id \u001b[39m=\u001b[39m threading\u001b[39m.\u001b[39mget_ident()\n",
      "File \u001b[1;32mc:\\Users\\kelli\\AppData\\Local\\Programs\\Python\\Python310\\lib\\asyncio\\base_events.py:582\u001b[0m, in \u001b[0;36mBaseEventLoop._check_running\u001b[1;34m(self)\u001b[0m\n\u001b[0;32m    580\u001b[0m \u001b[39mdef\u001b[39;00m \u001b[39m_check_running\u001b[39m(\u001b[39mself\u001b[39m):\n\u001b[0;32m    581\u001b[0m     \u001b[39mif\u001b[39;00m \u001b[39mself\u001b[39m\u001b[39m.\u001b[39mis_running():\n\u001b[1;32m--> 582\u001b[0m         \u001b[39mraise\u001b[39;00m \u001b[39mRuntimeError\u001b[39;00m(\u001b[39m'\u001b[39m\u001b[39mThis event loop is already running\u001b[39m\u001b[39m'\u001b[39m)\n\u001b[0;32m    583\u001b[0m     \u001b[39mif\u001b[39;00m events\u001b[39m.\u001b[39m_get_running_loop() \u001b[39mis\u001b[39;00m \u001b[39mnot\u001b[39;00m \u001b[39mNone\u001b[39;00m:\n\u001b[0;32m    584\u001b[0m         \u001b[39mraise\u001b[39;00m \u001b[39mRuntimeError\u001b[39;00m(\n\u001b[0;32m    585\u001b[0m             \u001b[39m'\u001b[39m\u001b[39mCannot run the event loop while another loop is running\u001b[39m\u001b[39m'\u001b[39m)\n",
      "\u001b[1;31mRuntimeError\u001b[0m: This event loop is already running"
     ]
    }
   ],
   "source": [
    "filepath= \"C:\\\\Users\\\\kelli\\\\Downloads\\\\cookbook.xlsx\"\n",
    "ingredientsdf = pd.read_excel(filepath, sheet_name='Ingredients')\n",
    "recipedf = pd.read_excel(filepath, sheet_name='Recipe')\n",
    "stepsdf = pd.read_excel(filepath, sheet_name='Steps')\n",
    "with open(\"C:\\\\Users\\\\kelli\\\\Downloads\\\\userPassDB.csv\", 'r',encoding='utf-8-sig') as file:\n",
    "    csv_reader = csv.reader(file)\n",
    "    cred_list = []\n",
    "    for row in csv_reader:\n",
    "        cred_list.append(row)\n",
    "start_server(add_recipe, port = 8080, debug = True )"
   ]
  },
  {
   "cell_type": "code",
   "execution_count": null,
   "metadata": {},
   "outputs": [],
   "source": [
    "display(recipedf)"
   ]
  },
  {
   "cell_type": "code",
   "execution_count": null,
   "metadata": {},
   "outputs": [],
   "source": [
    "# Need to add label for recipe view\n",
    "display(stepsdf)"
   ]
  },
  {
   "cell_type": "code",
   "execution_count": null,
   "metadata": {},
   "outputs": [],
   "source": [
    "display(ingredDisplaydf)"
   ]
  }
 ],
 "metadata": {
  "kernelspec": {
   "display_name": "Python 3.10.7 64-bit",
   "language": "python",
   "name": "python3"
  },
  "language_info": {
   "codemirror_mode": {
    "name": "ipython",
    "version": 3
   },
   "file_extension": ".py",
   "mimetype": "text/x-python",
   "name": "python",
   "nbconvert_exporter": "python",
   "pygments_lexer": "ipython3",
   "version": "3.10.7"
  },
  "orig_nbformat": 4,
  "vscode": {
   "interpreter": {
    "hash": "538fd4bd7448cf884b234413f537b00cacb663e8d69e6b473c48703f317fad08"
   }
  }
 },
 "nbformat": 4,
 "nbformat_minor": 2
}
