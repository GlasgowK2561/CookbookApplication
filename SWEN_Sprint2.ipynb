{
 "cells": [
  {
   "cell_type": "markdown",
   "metadata": {},
   "source": [
    "\"\"\" \n",
    "Programmers: Kellie Glasgow & Courtney Ward \n",
    "Languages: python, CSS \n",
    "Tools: pywebio, pandas, excel \n",
    "Runs on: Visual Studio Code with Jupyter \n",
    "Included Files: cookbook.xlsx \n",
    "\n",
    "Purpose: Create a cookbook application to add & view recipes in your own personalized recipe book. \n",
    "\n",
    "Pseudocode \n",
    "Main menu has two buttons to navigate to two features \n",
    "    Add recipe \n",
    "    View Recipes \n",
    "View Recipes \n",
    "    Access database to get recipe names & basic information \n",
    "    Display this information in a table \n",
    "    Dropdown menu to select recipe \n",
    "    Submit button to view selected recipe \n",
    "View Selected Recipe \n",
    "    Access database & display recipe information, ingredients, & steps \n",
    "Add Recipe \n",
    "    Have input fields to collect data about recipe from user \n",
    "    Validate & save data \n",
    "\"\"\""
   ]
  },
  {
   "cell_type": "markdown",
   "metadata": {},
   "source": [
    "IMPORTS"
   ]
  },
  {
   "cell_type": "code",
   "execution_count": 1,
   "metadata": {},
   "outputs": [],
   "source": [
    "#to run a server, config allows us to change the general look, allows use of CSS\n",
    "from pywebio import start_server, config\n",
    "#allows input fields to remain on page after submission (Makes fields persistent)\n",
    "from pywebio.pin import *\n",
    "#allows use of input commands\n",
    "from pywebio.input import *\n",
    "#allows use of output commands\n",
    "from pywebio.output import *\n",
    "from functools import partial\n",
    "import BusyChefDBModel as AccessDB\n"
   ]
  },
  {
   "cell_type": "markdown",
   "metadata": {},
   "source": [
    "CSS Prompts"
   ]
  },
  {
   "cell_type": "code",
   "execution_count": 2,
   "metadata": {},
   "outputs": [],
   "source": [
    "#Declaring & initializing global styles as string of CSS code to keep consistent formatting throughout\n",
    "headerStyle = 'text-align: center; background-color: tan; padding-top: 40px; padding-bottom: 40px; color: brown; font-size: 50px; font-weight: bold'\n",
    "navButtonStyle = 'text-align: left; margin-top: 20px'\n",
    "headingStyle = 'text-align: center; color:black; font-size: xx-large; font-weight: bold'\n",
    "promptStyle = 'text-align: center; color:black; font-size: x-large; font-weight: bold'\n",
    "headingUnderlineStyle = 'color: black; font-size: 15pt; font-weight: bold; text-decoration-line: underline'\n",
    "\n",
    "recipeHeadingStyle = 'margin-left: 400px; color: black; font-size: 40pt; font-weight: bold'\n",
    "recipeDescriptionStyle = 'font-size: 20pt; text-align: center'\n",
    "recipeStatsStyle = 'font-size: 20pt; text-align: center; border: black'\n",
    "recipeIngredStyle = 'padding-left: 100px; font-size 30pt'\n",
    "recipeDirectionStyle = 'padding-left: 100px; font-size = 35pt; font-weight: bold'\n",
    "\n",
    "centerStyle = 'text-align: center'\n",
    "rightStyle = 'text-align: right'\n",
    "leftStyle = 'text-align: left'\n",
    "\n",
    "buttonStyle = ''"
   ]
  },
  {
   "cell_type": "markdown",
   "metadata": {},
   "source": [
    "Function to Control what happens when server starts"
   ]
  },
  {
   "cell_type": "code",
   "execution_count": 3,
   "metadata": {},
   "outputs": [],
   "source": [
    "###Start Function### \n",
    "def start_app(): \n",
    "    AccessDB.open_cookbook() \n",
    "    main_menu() "
   ]
  },
  {
   "cell_type": "markdown",
   "metadata": {},
   "source": [
    "Functions used by page/view methods"
   ]
  },
  {
   "cell_type": "code",
   "execution_count": 4,
   "metadata": {},
   "outputs": [],
   "source": [
    "###VIEW FUNCTIONS### \n",
    "def print_header(): \n",
    "    ###Function to print running header & nav bar###    \n",
    "    # # Nav bar button to return to main menu  \n",
    "    # put_button([\"Main Menu\"], onclick=main_menu).style('text-align: left; margin-top: 20px') \n",
    "    # App title header \n",
    "    put_markdown('# The Busy Chef').style(headerStyle) "
   ]
  },
  {
   "cell_type": "markdown",
   "metadata": {},
   "source": [
    "Functions to Create Page Views"
   ]
  },
  {
   "cell_type": "code",
   "execution_count": 5,
   "metadata": {},
   "outputs": [
    {
     "ename": "SyntaxError",
     "evalue": "invalid syntax (3111703494.py, line 76)",
     "output_type": "error",
     "traceback": [
      "\u001b[1;36m  Cell \u001b[1;32mIn[5], line 76\u001b[1;36m\u001b[0m\n\u001b[1;33m    put_column(put_text('Directions').style(headingUnderlineStyle), for step in steps: step),\u001b[0m\n\u001b[1;37m                                                                    ^\u001b[0m\n\u001b[1;31mSyntaxError\u001b[0m\u001b[1;31m:\u001b[0m invalid syntax\n"
     ]
    }
   ],
   "source": [
    "def main_menu(): \n",
    "    ###Layout for main menu### \n",
    "    #Clear any prior output \n",
    "    clear() \n",
    "    with use_scope(\"main_menu\", clear = True): \n",
    "        #display main menu header at top of page \n",
    "        put_markdown(\"# Welcome to the Busy Chef\").style(headerStyle) \n",
    "        #Prompt user to make selection \n",
    "        put_text(\"What would you like to do?\").style(promptStyle) \n",
    "        #Define & layout buttons for options \n",
    "        put_buttons([\"View Recipes\", 'Add Recipe'], onclick=menuButtons).style('text-align: center') \n",
    "\n",
    "def select_recipe(): \n",
    "    ###Layout & data for View All Recipes screen### \n",
    "    #Clear any prior output & display common header at top of page \n",
    "    clear() \n",
    "    print_header() \n",
    "    put_text(\"Recipes\").style(recipeHeadingStyle) \n",
    "    #Get list of recipe names from DB \n",
    "    optionsList = AccessDB.getRecipeList() \n",
    "    #Populate DDL\n",
    "    response = input_group(\"Please Enter your Recipe Information\",[ \n",
    "        select('Which recipe would you like to view?', options = optionsList, name  = 'Recipe') \n",
    "    ], cancelable=True)\n",
    "    #response = input_group(\"Recipe Selection\",[select('Which recipe would you like to view?', optionsList), input('Enter Recipe Description', name = 'Description', type = TEXT)], cancelable=True)\n",
    "    if (response != None):\n",
    "        display_recipe(response['Recipe']) \n",
    "    else:\n",
    "        main_menu()\n",
    "\n",
    "def display_recipe(response): \n",
    "\n",
    "    ###Get data for recipe and format & display it to page### \n",
    "    #Clear any prior output & display common header at top of page \n",
    "    clear() \n",
    "    print_header() \n",
    "    #Get data for recipe \n",
    "    recipe = AccessDB.getRecipeInformation(response) \n",
    "\n",
    "    #Navigation Buttons\n",
    "    put_buttons([\"Main Menu\", \"Recipe Selection\"], onclick=partial(recipeButtons, recipe = recipe['RecipeName'])).style(leftStyle), \n",
    "\n",
    "    #format & display recipe \n",
    "    #Recipe Heading: Name & Delete button \n",
    "    put_row([\n",
    "        put_text(\"\"), \n",
    "        put_text(recipe['RecipeName']).style(headingStyle),\n",
    "        put_buttons(['Delete Recipe'], onclick=partial(recipeButtons, recipe = recipe['RecipeName'])).style(rightStyle)\n",
    "        ])\n",
    "    #Editing Buttons\n",
    "    put_buttons([\"Edit Details\", \"Edit Ingredients\",\"Edit Directions\"], onclick=partial(recipeButtons, recipe = recipe['RecipeName'])).style(centerStyle)\n",
    "    \n",
    "    #Recipe Description \n",
    "    put_text(recipe['Description']).style('recipeDescriptionStyle') \n",
    "    #Recipe General Info/Stats\n",
    "    #Ingredients \n",
    "    ingredients = []\n",
    "    for ingredient in recipe['ingredients']:\n",
    "        amount = \"{}\\t{}\".format(ingredient['Amount'], ingredient['Unit'])\n",
    "        ingredients.append({'Ingredient': ingredient['Name'], 'Amount': amount})\n",
    "    put_row([\n",
    "        put_text(\"\"), \n",
    "        put_table(ingredients).style(centerStyle),\n",
    "        put_text(\"\")\n",
    "        ])\n",
    "    \n",
    "    ##FIXME: for some reason directions are being entered backwards??\n",
    "    steps = []\n",
    "    stepNum = 1\n",
    "    for step in recipe['instructions']:\n",
    "        txt = \"{}. {}\".format(stepNum,step)\n",
    "        steps.append(put_text(txt).style(leftStyle))\n",
    "        stepNum += 1\n",
    "    \n",
    "    put_row([\n",
    "        put_text(\"\"), \n",
    "        put_column(put_text('Directions').style(headingUnderlineStyle), steps),\n",
    "        put_text(\"\")\n",
    "        ])\n",
    "\n",
    "def add_recipe(): \n",
    "    ###Layout for user input screen to gather new recipe information### \n",
    "    #Clear any prior output & display common header at top of page \n",
    "    clear() \n",
    "    print_header()\n",
    "    #get information from user \n",
    "    info = input_group(\"Please Enter your Recipe Information\",[ \n",
    "        input('Enter Recipe Name', name = 'RecipeName', type = TEXT, required=True), \n",
    "        input('Enter Recipe Description', name = 'Description', type = TEXT), \n",
    "        radio('Select your Tags', options = ['Vegetarian', 'Heart Healthy', 'Protien Heavy', 'Party'], name = 'tags'),       \n",
    "        input('Food Category (Example: Indian, American, Italian)', name = 'foodCat', type = TEXT), \n",
    "        select('Cuisine', options = ['Breakfast', 'Brunch', 'Lunch', 'Dinner', 'Appetizer', 'Dessert'], name  = 'cuisine'), \n",
    "        input('Enter the Prep Time for the Meal', name = 'prepTime', type = NUMBER), \n",
    "        input('Enter the Cook Time for the Meal', name = 'cookTime', type = NUMBER), \n",
    "        input('Enter the Number of Servings for the Meal', name = 'servings', type = NUMBER),\n",
    "        input('Enter the number of ingredients in recipe:', name = 'numIngred', type = NUMBER, required=True), \n",
    "        input('Enter the number of steps in recipe:', name = 'numInstruct', type = NUMBER, required=True) \n",
    "    ], cancelable=True)\n",
    "\n",
    "    if (info != None):\n",
    "        #Get each ingredient info \n",
    "        #List to store each step entry\n",
    "        ingredients = []\n",
    "        #Loop to output input field for ingredients to page & collect input\n",
    "        for i in range(info['numIngred']): \n",
    "            ingred = get_ingredients(i) \n",
    "            ingredients.append(ingred) \n",
    "        #Add final list of ingredients to recipe info dictionary\n",
    "        info.update({'ingredients':ingredients})\n",
    "        \n",
    "        #Get each step info \n",
    "        #List to store each step entry\n",
    "        steps = []\n",
    "        #Loop to output input field for instructions to page & collect input\n",
    "        for i in range(info['numInstruct']): \n",
    "            step = get_steps(i) \n",
    "            steps.append(step['Instruction'])\n",
    "        #Add final list of steps to recipe info dictionary\n",
    "        info.update({'instructions':steps})\n",
    "\n",
    "        ##Send recipe data to DBmodel to save in DB\n",
    "        AccessDB.addRecipe(info)\n",
    "    ###Go to main menu after submission or canceling### \n",
    "    main_menu() "
   ]
  },
  {
   "cell_type": "markdown",
   "metadata": {},
   "source": [
    "Looped Pages to get recipe ingredients & steps"
   ]
  },
  {
   "cell_type": "code",
   "execution_count": null,
   "metadata": {},
   "outputs": [],
   "source": [
    "def get_ingredients(num): \n",
    "    ###Layout for user input screens to gather new recipe ingredients### \n",
    "    #Clear any prior output & display common header at top of page \n",
    "    clear() \n",
    "    print_header() \n",
    "    #String for recipe ingredient prompt with automatic incremented ingredient number \n",
    "    inputStr = \"Enter Ingredient Information for Ingredient {}\".format(num + 1) \n",
    "    #Displays input field & prompt for recipe ingredient, amount & measurement \n",
    "    ingred_info = input_group(inputStr, [ \n",
    "\n",
    "        input('Ingredient Name', name = 'Name', type = TEXT, required=True), \n",
    "\n",
    "        input('Ingredient Amount', name = 'Amount', type = TEXT, required=True), \n",
    "\n",
    "        input('Ingredient Measurement(example: cup, teaspoon)', name ='Unit', type = TEXT, required=True) \n",
    "    ]) \n",
    "    return ingred_info \n",
    "\n",
    "def get_steps(num): \n",
    "\n",
    "    ###Layout for user input screens to gather new recipe steps### \n",
    "    #Clear any prior output & display common header at top of page \n",
    "    clear() \n",
    "    print_header() \n",
    "    #String for recipe step prompt with automatic incremented step number \n",
    "    inputStr = \"Enter Step {}\".format(num + 1) \n",
    "    #Displays input field & prompt for recipe step  \n",
    "    info = input_group(inputStr, [ \n",
    "\n",
    "        input('Instruction', name = 'Instruction', type = TEXT, required=True) \n",
    "\n",
    "    ]) \n",
    "    step = num + 1 \n",
    "    step = str(step) + '.'  \n",
    "    return info \n",
    "ingredNum = 0"
   ]
  },
  {
   "cell_type": "markdown",
   "metadata": {},
   "source": [
    "Functions to handle Events (Buttons, etc)"
   ]
  },
  {
   "cell_type": "code",
   "execution_count": null,
   "metadata": {},
   "outputs": [],
   "source": [
    "###CONTROLS###\n",
    "def menuButtons(btn_val): \n",
    "    ###Tells main menu buttons what to do/what functions to call### \n",
    "    #Launches View Recipes Page \n",
    "    if btn_val == \"View Recipes\": \n",
    "        select_recipe() \n",
    "    #Launches Add recipe page \n",
    "    elif btn_val == \"Add Recipe\": \n",
    "        add_recipe() \n",
    "\n",
    "def recipeButtons(btn_val, recipe):\n",
    "    if btn_val == 'Main Menu':\n",
    "        main_menu()\n",
    "    elif btn_val == 'Edit Details':\n",
    "        editRecipe(recipe)\n",
    "    elif btn_val == 'Edit Ingredients':\n",
    "        editIngredients(recipe)\n",
    "    elif btn_val == 'Edit Directions':\n",
    "        editDirections(recipe)\n",
    "    elif btn_val == 'Delete Recipe':\n",
    "        deleteRecipe(recipe)\n",
    "    elif btn_val == 'Recipe Selection':\n",
    "        select_recipe()"
   ]
  },
  {
   "cell_type": "markdown",
   "metadata": {},
   "source": [
    "Controls for modifying recipes"
   ]
  },
  {
   "cell_type": "code",
   "execution_count": null,
   "metadata": {},
   "outputs": [],
   "source": [
    "def editRecipe(currentRecipeName):\n",
    "    clear() \n",
    "    print_header()\n",
    "    #Get current recipe info to prepopulate form\n",
    "    currentRecipe = AccessDB.getRecipeInformation(currentRecipeName)\n",
    "\n",
    "    #Input fields prepopulated with current recipe that user can edit \n",
    "    info = input_group(\"Please Enter your Recipe Information\",[ \n",
    "        input('Enter Recipe Name', name = 'RecipeName', type = TEXT, required=True, value=currentRecipe['RecipeName']), \n",
    "        input('Enter Recipe Description', name = 'Description', type = TEXT, value=currentRecipe['Description'] ),\n",
    "        radio('Select your Tags', options = ['Vegetarian', 'Heart Healthy', 'Protien Heavy', 'Party'], name = 'tags', value=currentRecipe['tags'] ),       \n",
    "        input('Food Category (Example: Indian, American, Italian)', name = 'foodCat', type = TEXT, value=currentRecipe['foodCat'] ), \n",
    "        select('Cuisine', options = ['Breakfast', 'Brunch', 'Lunch', 'Dinner', 'Appetizer', 'Dessert'], name  = 'cuisine', value=currentRecipe['cuisine'] ), \n",
    "        input('Enter the Prep Time for the Meal', name = 'prepTime', type = NUMBER, value=currentRecipe['prepTime'] ), \n",
    "        input('Enter the Cook Time for the Meal', name = 'cookTime', type = NUMBER, value=currentRecipe['cookTime'] ), \n",
    "        input('Enter the Number of Servings for the Meal', name = 'servings', type = NUMBER, value=currentRecipe['servings'] ),\n",
    "        input('Enter the number of ingredients in recipe:', name = 'numIngred', type = NUMBER, required=True, value=currentRecipe['numIngred'] ), \n",
    "        input('Enter the number of steps in recipe:', name = 'numInstruct', type = NUMBER, required=True, value=currentRecipe['numInstruct'] ),\n",
    "    ], cancelable=True)\n",
    "    \n",
    "    #If user doesn't click cancel\n",
    "    if (info != None):\n",
    "        #Update currentRecipe dictionary\n",
    "        currentRecipe.update(info)\n",
    "        #Call editRecipe function for model to update excel file\n",
    "        #AccessDB.editRecipe(currentRecipeName, currentRecipe)\n",
    "\n",
    "    #return to recipe when done\n",
    "    display_recipe(currentRecipe['RecipeName'])\n",
    "\n",
    "def editIngredients(recipeName):\n",
    "    #get current ingredients \n",
    "    ingredients = AccessDB.getRecipeInformation(recipeName)['Ingredients']\n",
    "    ##Reset ingredient num\n",
    "    global ingredNum\n",
    "    ingredNum = 0\n",
    "    #Look at each ingredient & add prefilled fields for editing\n",
    "    for ingredient in ingredients:\n",
    "        add_ingred(ingredient)\n",
    "    #Add empty field & button to add more\n",
    "    input_ingredients()\n",
    "\n",
    "    ##ADD Code to get input\n",
    "    ##ADD COde to save input\n",
    "    \n",
    "def editDirections(recipeName):\n",
    "    return\n",
    "    \n",
    "def deleteRecipe(recipeName):\n",
    "    #Pop out notification to avoid accidental deletions\n",
    "    #Delete recipe from DB\n",
    "    AccessDB.deleteRecipe(recipeName)\n",
    "    #Return to main menu\n",
    "    main_menu()\n",
    "    return"
   ]
  },
  {
   "cell_type": "markdown",
   "metadata": {},
   "source": [
    "Helper Functions for Editing"
   ]
  },
  {
   "cell_type": "code",
   "execution_count": null,
   "metadata": {},
   "outputs": [],
   "source": [
    "#FIXME: Add save button\n",
    "#FIXME: This will work for directions, but we need 3 fields for ingredients\n",
    "#Function to add prefilled ingredient field\n",
    "def add_ingred(currentValue):\n",
    "    global ingredNum \n",
    "    ingredNum += 1\n",
    "    lbl = \"ingred{}\".format(ingredNum)\n",
    "    with use_scope('ingredients'):\n",
    "        put_input(lbl, type='text')\n",
    "\n",
    "#Function to add empty ingredient field\n",
    "def add_ingred():\n",
    "    global ingredNum \n",
    "    ingredNum += 1\n",
    "    lbl = \"ingred{}\".format(ingredNum)\n",
    "    with use_scope('ingredients'):\n",
    "        put_input(lbl, type='text')\n",
    "        \n",
    "#Add empty field & button to add more        \n",
    "def input_ingredients():\n",
    "    add_ingred()\n",
    "    put_button([\"Add Ingredient\"], onclick = add_ingred)"
   ]
  },
  {
   "cell_type": "code",
   "execution_count": null,
   "metadata": {},
   "outputs": [
    {
     "name": "stdout",
     "output_type": "stream",
     "text": [
      "Running on all addresses.\n",
      "Use http://10.91.82.71:8080/ to access the application\n"
     ]
    },
    {
     "ename": "RuntimeError",
     "evalue": "This event loop is already running",
     "output_type": "error",
     "traceback": [
      "\u001b[1;31m---------------------------------------------------------------------------\u001b[0m",
      "\u001b[1;31mRuntimeError\u001b[0m                              Traceback (most recent call last)",
      "\u001b[1;32md:\\Documents\\CourtneyFiles\\Schoolwork\\SWEN\\Project\\BusyChefCode\\SWEN_Sprint2.ipynb Cell 18\u001b[0m line \u001b[0;36m3\n\u001b[0;32m      <a href='vscode-notebook-cell:/d%3A/Documents/CourtneyFiles/Schoolwork/SWEN/Project/BusyChefCode/SWEN_Sprint2.ipynb#W6sZmlsZQ%3D%3D?line=0'>1</a>\u001b[0m \u001b[39m###PYWEBIO FUNCTION THAT OPENS UNUSED PORT ON NETWORK###\u001b[39;00m\n\u001b[0;32m      <a href='vscode-notebook-cell:/d%3A/Documents/CourtneyFiles/Schoolwork/SWEN/Project/BusyChefCode/SWEN_Sprint2.ipynb#W6sZmlsZQ%3D%3D?line=1'>2</a>\u001b[0m \u001b[39m###Server starts with main_menu page### \u001b[39;00m\n\u001b[1;32m----> <a href='vscode-notebook-cell:/d%3A/Documents/CourtneyFiles/Schoolwork/SWEN/Project/BusyChefCode/SWEN_Sprint2.ipynb#W6sZmlsZQ%3D%3D?line=2'>3</a>\u001b[0m start_server(start_app, port \u001b[39m=\u001b[39;49m \u001b[39m8080\u001b[39;49m, debug \u001b[39m=\u001b[39;49m \u001b[39mTrue\u001b[39;49;00m ) \n",
      "File \u001b[1;32m~\\AppData\\Roaming\\Python\\Python312\\site-packages\\pywebio\\platform\\tornado.py:302\u001b[0m, in \u001b[0;36mstart_server\u001b[1;34m(applications, port, host, debug, cdn, static_dir, remote_access, reconnect_timeout, allowed_origins, check_origin, auto_open_webbrowser, max_payload_size, **tornado_app_settings)\u001b[0m\n\u001b[0;32m    299\u001b[0m \u001b[39mif\u001b[39;00m remote_access:\n\u001b[0;32m    300\u001b[0m     start_remote_access_service(local_port\u001b[39m=\u001b[39mport)\n\u001b[1;32m--> 302\u001b[0m tornado\u001b[39m.\u001b[39;49mioloop\u001b[39m.\u001b[39;49mIOLoop\u001b[39m.\u001b[39;49mcurrent()\u001b[39m.\u001b[39;49mstart()\n",
      "File \u001b[1;32m~\\AppData\\Roaming\\Python\\Python312\\site-packages\\tornado\\platform\\asyncio.py:195\u001b[0m, in \u001b[0;36mBaseAsyncIOLoop.start\u001b[1;34m(self)\u001b[0m\n\u001b[0;32m    194\u001b[0m \u001b[39mdef\u001b[39;00m \u001b[39mstart\u001b[39m(\u001b[39mself\u001b[39m) \u001b[39m-\u001b[39m\u001b[39m>\u001b[39m \u001b[39mNone\u001b[39;00m:\n\u001b[1;32m--> 195\u001b[0m     \u001b[39mself\u001b[39;49m\u001b[39m.\u001b[39;49masyncio_loop\u001b[39m.\u001b[39;49mrun_forever()\n",
      "File \u001b[1;32md:\\Program Files\\Python312\\Lib\\asyncio\\base_events.py:607\u001b[0m, in \u001b[0;36mBaseEventLoop.run_forever\u001b[1;34m(self)\u001b[0m\n\u001b[0;32m    605\u001b[0m \u001b[39m\u001b[39m\u001b[39m\"\"\"Run until stop() is called.\"\"\"\u001b[39;00m\n\u001b[0;32m    606\u001b[0m \u001b[39mself\u001b[39m\u001b[39m.\u001b[39m_check_closed()\n\u001b[1;32m--> 607\u001b[0m \u001b[39mself\u001b[39;49m\u001b[39m.\u001b[39;49m_check_running()\n\u001b[0;32m    608\u001b[0m \u001b[39mself\u001b[39m\u001b[39m.\u001b[39m_set_coroutine_origin_tracking(\u001b[39mself\u001b[39m\u001b[39m.\u001b[39m_debug)\n\u001b[0;32m    610\u001b[0m old_agen_hooks \u001b[39m=\u001b[39m sys\u001b[39m.\u001b[39mget_asyncgen_hooks()\n",
      "File \u001b[1;32md:\\Program Files\\Python312\\Lib\\asyncio\\base_events.py:599\u001b[0m, in \u001b[0;36mBaseEventLoop._check_running\u001b[1;34m(self)\u001b[0m\n\u001b[0;32m    597\u001b[0m \u001b[39mdef\u001b[39;00m \u001b[39m_check_running\u001b[39m(\u001b[39mself\u001b[39m):\n\u001b[0;32m    598\u001b[0m     \u001b[39mif\u001b[39;00m \u001b[39mself\u001b[39m\u001b[39m.\u001b[39mis_running():\n\u001b[1;32m--> 599\u001b[0m         \u001b[39mraise\u001b[39;00m \u001b[39mRuntimeError\u001b[39;00m(\u001b[39m'\u001b[39m\u001b[39mThis event loop is already running\u001b[39m\u001b[39m'\u001b[39m)\n\u001b[0;32m    600\u001b[0m     \u001b[39mif\u001b[39;00m events\u001b[39m.\u001b[39m_get_running_loop() \u001b[39mis\u001b[39;00m \u001b[39mnot\u001b[39;00m \u001b[39mNone\u001b[39;00m:\n\u001b[0;32m    601\u001b[0m         \u001b[39mraise\u001b[39;00m \u001b[39mRuntimeError\u001b[39;00m(\n\u001b[0;32m    602\u001b[0m             \u001b[39m'\u001b[39m\u001b[39mCannot run the event loop while another loop is running\u001b[39m\u001b[39m'\u001b[39m)\n",
      "\u001b[1;31mRuntimeError\u001b[0m: This event loop is already running"
     ]
    }
   ],
   "source": [
    "###PYWEBIO FUNCTION THAT OPENS UNUSED PORT ON NETWORK###\n",
    "###Server starts with main_menu page### \n",
    "start_server(start_app, port = 8080, debug = True ) "
   ]
  }
 ],
 "metadata": {
  "kernelspec": {
   "display_name": "Python 3",
   "language": "python",
   "name": "python3"
  },
  "language_info": {
   "codemirror_mode": {
    "name": "ipython",
    "version": 3
   },
   "file_extension": ".py",
   "mimetype": "text/x-python",
   "name": "python",
   "nbconvert_exporter": "python",
   "pygments_lexer": "ipython3",
   "version": "3.12.0"
  },
  "orig_nbformat": 4
 },
 "nbformat": 4,
 "nbformat_minor": 2
}
